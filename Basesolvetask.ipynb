{
 "cells": [
  {
   "cell_type": "code",
   "execution_count": 1,
   "id": "efca6bc1-79cb-400c-af5f-cc54451557fd",
   "metadata": {},
   "outputs": [
    {
     "name": "stdout",
     "output_type": "stream",
     "text": [
      "Modified primary sequence saved to E:/Basesolve/modified_primary.fasta\n"
     ]
    }
   ],
   "source": [
    "from Bio import SeqIO\n",
    "from Bio.Seq import Seq\n",
    "from Bio.SeqRecord import SeqRecord\n",
    "import random\n",
    "\n",
    "def reverse_complement(sequence):\n",
    "    return str(Seq(sequence).reverse_complement())\n",
    "\n",
    "def introduce_mutation(sequence):\n",
    "    position = random.randint(0, len(sequence) - 1)\n",
    "    original_nucleotide = sequence[position]\n",
    "    mutated_nucleotide = random.choice([base for base in 'ACGT' if base != original_nucleotide])\n",
    "    mutated_sequence = sequence[:position] + mutated_nucleotide + sequence[position + 1:]\n",
    "    return mutated_sequence\n",
    "\n",
    "# Define file paths\n",
    "primary_file = 'E:/Basesolve/my_primary.fasta'\n",
    "output_file = 'E:/Basesolve/modified_primary.fasta'\n",
    "\n",
    "# Read the primary multi-FASTA file\n",
    "all_sequences = list(SeqIO.parse(primary_file, \"fasta\"))\n",
    "\n",
    "# Randomly select 10 sequences\n",
    "selected_sequences = random.sample(all_sequences, min(10, len(all_sequences)))\n",
    "\n",
    "processed_records = []\n",
    "\n",
    "# Process the selected sequences\n",
    "for sequence_record in selected_sequences:\n",
    "    scaffold = sequence_record.id\n",
    "    sequence = str(sequence_record.seq)\n",
    "\n",
    "    # Randomly select start and end positions for modification\n",
    "    start = random.randint(0, len(sequence) - 1)\n",
    "    end = random.randint(start + 1, len(sequence))\n",
    "\n",
    "    # Extract the subsequence for modification\n",
    "    subsequence = sequence[start:end]\n",
    "\n",
    "    # Reverse complement the extracted subsequence\n",
    "    reversed_sequence = reverse_complement(subsequence)\n",
    "\n",
    "    # Introduce a random mutation in the reversed subsequence\n",
    "    processed_sequence = introduce_mutation(reversed_sequence)\n",
    "\n",
    "    # Insert the processed subsequence back into the modified sequence\n",
    "    modified_sequence = sequence[:start] + processed_sequence + sequence[end:]\n",
    "\n",
    "    # Create a SeqRecord for the modified sequence\n",
    "    processed_record = SeqRecord(Seq(modified_sequence), id=f\"{scaffold}_processed\", description=\"\")\n",
    "    processed_records.append(processed_record)\n",
    "\n",
    "# Write the modified primary sequence to a new multi-FASTA file\n",
    "with open(output_file, \"w\") as output:\n",
    "    SeqIO.write(processed_records, output, \"fasta\")\n",
    "\n",
    "print(f\"Modified primary sequence saved to {output_file}\")\n"
   ]
  },
  {
   "cell_type": "code",
   "execution_count": null,
   "id": "c124c376-0fd3-46ab-83d9-26a84cedb5a4",
   "metadata": {},
   "outputs": [],
   "source": []
  },
  {
   "cell_type": "code",
   "execution_count": null,
   "id": "cecf2a93-db71-443d-95c7-1589a6912467",
   "metadata": {},
   "outputs": [],
   "source": []
  }
 ],
 "metadata": {
  "kernelspec": {
   "display_name": "Python 3 (ipykernel)",
   "language": "python",
   "name": "python3"
  },
  "language_info": {
   "codemirror_mode": {
    "name": "ipython",
    "version": 3
   },
   "file_extension": ".py",
   "mimetype": "text/x-python",
   "name": "python",
   "nbconvert_exporter": "python",
   "pygments_lexer": "ipython3",
   "version": "3.11.5"
  }
 },
 "nbformat": 4,
 "nbformat_minor": 5
}
